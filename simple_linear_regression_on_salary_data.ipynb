{
  "nbformat": 4,
  "nbformat_minor": 0,
  "metadata": {
    "colab": {
      "name": "simple_linear_regression_on_salary_data.ipynb",
      "provenance": [],
      "include_colab_link": true
    },
    "kernelspec": {
      "name": "python3",
      "display_name": "Python 3"
    }
  },
  "cells": [
    {
      "cell_type": "markdown",
      "metadata": {
        "id": "view-in-github",
        "colab_type": "text"
      },
      "source": [
        "<a href=\"https://colab.research.google.com/github/forouzanfallah/Simple-Regression-using-Python-on-Colab/blob/main/simple_linear_regression_on_salary_data.ipynb\" target=\"_parent\"><img src=\"https://colab.research.google.com/assets/colab-badge.svg\" alt=\"Open In Colab\"/></a>"
      ]
    },
    {
      "cell_type": "markdown",
      "metadata": {
        "id": "mMEPaJl1rvgE"
      },
      "source": [
        "#🌸 Forouzan Fallah 🌸"
      ]
    },
    {
      "cell_type": "markdown",
      "metadata": {
        "id": "6vkIainRsAxF"
      },
      "source": [
        "Github: Forouzanfallah\n",
        "\n",
        "Personal Website: Forouzanfallah.ir\n",
        "\n",
        "Don't hesitate to contact me for any further questions ☺"
      ]
    },
    {
      "cell_type": "markdown",
      "metadata": {
        "id": "l_LulNCC8z96"
      },
      "source": [
        "# Simple Linear Regression"
      ]
    },
    {
      "cell_type": "markdown",
      "metadata": {
        "id": "xpXdowrE9DxW"
      },
      "source": [
        "## Importing the libraries"
      ]
    },
    {
      "cell_type": "code",
      "metadata": {
        "id": "nhKd4hWx9GFt"
      },
      "source": [
        "import numpy as np\n",
        "import matplotlib.pyplot as plt\n",
        "import pandas as pd"
      ],
      "execution_count": null,
      "outputs": []
    },
    {
      "cell_type": "markdown",
      "metadata": {
        "id": "6JhpWJi59J1p"
      },
      "source": [
        "## Importing the **dataset**"
      ]
    },
    {
      "cell_type": "code",
      "metadata": {
        "id": "f8GfYDZ59O18"
      },
      "source": [
        "dataset = pd.read_csv('Salary_Data.csv')\n"
      ],
      "execution_count": null,
      "outputs": []
    },
    {
      "cell_type": "markdown",
      "metadata": {
        "id": "r3bVdLZttGuS"
      },
      "source": [
        "##Separate the features and label"
      ]
    },
    {
      "cell_type": "code",
      "metadata": {
        "id": "hGDh0Pr7tHBK"
      },
      "source": [
        "X = dataset.iloc[:, :-1].values\n",
        "y = dataset.iloc[:, -1].values"
      ],
      "execution_count": null,
      "outputs": []
    },
    {
      "cell_type": "markdown",
      "metadata": {
        "id": "AyhQaTwP9RzG"
      },
      "source": [
        "## Splitting the dataset into the Training set and Test set"
      ]
    },
    {
      "cell_type": "code",
      "metadata": {
        "id": "bxOOauiN9VpC"
      },
      "source": [
        "from sklearn.model_selection import train_test_split\n",
        "X_train, X_test, y_train, y_test = train_test_split(X, y, test_size = 0.3, random_state = 0)"
      ],
      "execution_count": null,
      "outputs": []
    },
    {
      "cell_type": "markdown",
      "metadata": {
        "id": "ZijQwFMQ9itx"
      },
      "source": [
        "## Training the Simple Linear Regression model on the Training set"
      ]
    },
    {
      "cell_type": "code",
      "metadata": {
        "id": "B4Aj_8YJ9l7J",
        "colab": {
          "base_uri": "https://localhost:8080/"
        },
        "outputId": "033cf06d-fa72-445e-dc0f-33c0112bb412"
      },
      "source": [
        "from sklearn.linear_model import LinearRegression\n",
        "linear_regressor = LinearRegression()\n",
        "linear_regressor.fit(X_train, y_train)"
      ],
      "execution_count": null,
      "outputs": [
        {
          "output_type": "execute_result",
          "data": {
            "text/plain": [
              "LinearRegression(copy_X=True, fit_intercept=True, n_jobs=None, normalize=False)"
            ]
          },
          "metadata": {
            "tags": []
          },
          "execution_count": 16
        }
      ]
    },
    {
      "cell_type": "markdown",
      "metadata": {
        "id": "wa2T1Lq89o5H"
      },
      "source": [
        "## Predicting the Test set results"
      ]
    },
    {
      "cell_type": "code",
      "metadata": {
        "id": "Rn_sTJ2o9smm"
      },
      "source": [
        "y_predict = linear_regressor.predict(X_test)"
      ],
      "execution_count": null,
      "outputs": []
    },
    {
      "cell_type": "markdown",
      "metadata": {
        "id": "-zSoMZ-P9v8t"
      },
      "source": [
        "## Visualising the Training set results"
      ]
    },
    {
      "cell_type": "code",
      "metadata": {
        "id": "IAePn_u-93tI",
        "colab": {
          "base_uri": "https://localhost:8080/",
          "height": 295
        },
        "outputId": "ad9d0331-edbf-4bcd-e56a-8c93300f0e20"
      },
      "source": [
        "plt.scatter(X_train, y_train, color = 'magenta')\n",
        "plt.plot(X_train, linear_regressor.predict(X_train), color = 'cyan')\n",
        "plt.title('Salary based on Experience on Training dataset')\n",
        "plt.ylabel('Salary')\n",
        "plt.xlabel('Years of Experience')\n",
        "plt.show()"
      ],
      "execution_count": null,
      "outputs": [
        {
          "output_type": "display_data",
          "data": {
            "image/png": "[encoded data removed]",
            "text/plain": [
              "<Figure size 432x288 with 1 Axes>"
            ]
          },
          "metadata": {
            "tags": [],
            "needs_background": "light"
          }
        }
      ]
    },
    {
      "cell_type": "markdown",
      "metadata": {
        "id": "EUX1Vhsv97ZT"
      },
      "source": [
        "## Visualising the Test set results"
      ]
    },
    {
      "cell_type": "code",
      "metadata": {
        "id": "Ze9vpBTf-Bol",
        "colab": {
          "base_uri": "https://localhost:8080/",
          "height": 295
        },
        "outputId": "8e992ccc-502e-42d7-a078-297cb9f3bc88"
      },
      "source": [
        "plt.scatter(X_test, y_test, color = 'magenta')\n",
        "plt.plot(X_train, linear_regressor.predict(X_train), color = 'cyan')\n",
        "plt.title('Salary based on Experience on Test dataset')\n",
        "plt.ylabel('Salary')\n",
        "plt.xlabel('Years of Experience')\n",
        "plt.show()"
      ],
      "execution_count": null,
      "outputs": [
        {
          "output_type": "display_data",
          "data": {
            "image/png": "[encoded data removed]",
            "text/plain": [
              "<Figure size 432x288 with 1 Axes>"
            ]
          },
          "metadata": {
            "tags": [],
            "needs_background": "light"
          }
        }
      ]
    }
  ]
}